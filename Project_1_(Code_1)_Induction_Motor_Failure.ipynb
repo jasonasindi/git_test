{
  "cells": [
    {
      "cell_type": "markdown",
      "metadata": {
        "id": "view-in-github",
        "colab_type": "text"
      },
      "source": [
        "<a href=\"https://colab.research.google.com/github/jasonasindi/git_test/blob/main/Project_1_(Code_1)_Induction_Motor_Failure.ipynb\" target=\"_parent\"><img src=\"https://colab.research.google.com/assets/colab-badge.svg\" alt=\"Open In Colab\"/></a>"
      ]
    },
    {
      "cell_type": "markdown",
      "source": [
        "### Project 1: Induction Motor Fault Detection"
      ],
      "metadata": {
        "id": "cFnZHh5-KcLV"
      },
      "id": "cFnZHh5-KcLV"
    },
    {
      "cell_type": "markdown",
      "source": [
        "### **Data Pre-Processing**"
      ],
      "metadata": {
        "id": "PFjPVCw-CXlj"
      },
      "id": "PFjPVCw-CXlj"
    },
    {
      "cell_type": "code",
      "source": [
        "from google.colab import drive\n",
        "drive.mount('/content/drive')"
      ],
      "metadata": {
        "id": "pBJQtzb1iM9e",
        "colab": {
          "base_uri": "https://localhost:8080/"
        },
        "outputId": "7220ff8f-fb13-4b3d-b170-5807e35f1099"
      },
      "id": "pBJQtzb1iM9e",
      "execution_count": null,
      "outputs": [
        {
          "output_type": "stream",
          "name": "stdout",
          "text": [
            "Drive already mounted at /content/drive; to attempt to forcibly remount, call drive.mount(\"/content/drive\", force_remount=True).\n"
          ]
        }
      ]
    },
    {
      "cell_type": "code",
      "execution_count": null,
      "id": "37fa79b6",
      "metadata": {
        "execution": {
          "iopub.execute_input": "2021-09-24T16:35:18.190007Z",
          "iopub.status.busy": "2021-09-24T16:35:18.188852Z",
          "iopub.status.idle": "2021-09-24T16:35:18.199055Z",
          "shell.execute_reply": "2021-09-24T16:35:18.199594Z",
          "shell.execute_reply.started": "2021-09-24T16:25:32.195581Z"
        },
        "papermill": {
          "duration": 0.037392,
          "end_time": "2021-09-24T16:35:18.199884",
          "exception": false,
          "start_time": "2021-09-24T16:35:18.162492",
          "status": "completed"
        },
        "tags": [],
        "id": "37fa79b6"
      },
      "outputs": [],
      "source": [
        "import numpy as np\n",
        "import pandas as pd\n",
        "import glob\n",
        "from sklearn.model_selection import train_test_split\n",
        "from sklearn.preprocessing import LabelEncoder\n",
        "from tensorflow.keras.models import Sequential\n",
        "from tensorflow.keras.layers import Dense\n",
        "from tensorflow.keras.callbacks import EarlyStopping\n",
        "import matplotlib.pyplot as plt\n",
        "from sklearn.metrics import confusion_matrix\n",
        "import seaborn as sns\n",
        "\n",
        "\n",
        "cp = \"/content/drive/MyDrive/imbalance\"\n",
        "\n",
        "# File path definitions\n",
        "\n",
        "normal_file_names = glob.glob(\"/content/drive/MyDrive/normal\"+'/normal/*.csv')\n",
        "imnormal_file_names_6g = glob.glob(cp+'/imbalance/6g/*.csv')\n",
        "imnormal_file_names_10g = glob.glob(cp+'/imbalance/10g/*.csv')\n",
        "imnormal_file_names_15g = glob.glob(cp+'/imbalance\\\\15g/*.csv')\n",
        "imnormal_file_names_20g = glob.glob(cp+'/imbalance\\\\20g/*.csv')\n",
        "imnormal_file_names_25g = glob.glob(cp+'/imbalance\\\\25g/*.csv')\n",
        "imnormal_file_names_30g = glob.glob(cp+'/imbalance\\\\30g/*.csv')\n",
        "\n",
        "# Data Loading\n",
        "def dataReader(path_names):\n",
        "    data_n = pd.DataFrame()\n",
        "    for i in path_names:\n",
        "        low_data = pd.read_csv(i,header=None)\n",
        "        data_n = pd.concat([data_n,low_data],ignore_index=True)\n",
        "    return data_n\n",
        "\n",
        "# Data loading for normal and imnormal data\n",
        "\n",
        "data_n = dataReader(normal_file_names)\n",
        "data_6g = dataReader(imnormal_file_names_6g)\n",
        "data_10g = dataReader(imnormal_file_names_10g)\n",
        "data_15g = dataReader(imnormal_file_names_15g)\n",
        "data_20g = dataReader(imnormal_file_names_20g)\n",
        "data_25g = dataReader(imnormal_file_names_25g)\n",
        "data_30g = dataReader(imnormal_file_names_30g)\n",
        "\n",
        "data_n.info()"
      ]
    },
    {
      "cell_type": "markdown",
      "source": [
        "# Down sampling"
      ],
      "metadata": {
        "id": "7B4wKNvnA72X"
      },
      "id": "7B4wKNvnA72X"
    },
    {
      "cell_type": "code",
      "execution_count": null,
      "id": "f1a02c40",
      "metadata": {
        "execution": {
          "iopub.execute_input": "2021-09-24T16:36:46.719952Z",
          "iopub.status.busy": "2021-09-24T16:36:46.719060Z",
          "iopub.status.idle": "2021-09-24T16:36:46.722107Z",
          "shell.execute_reply": "2021-09-24T16:36:46.721577Z",
          "shell.execute_reply.started": "2021-09-24T16:26:52.158412Z"
        },
        "papermill": {
          "duration": 0.044286,
          "end_time": "2021-09-24T16:36:46.722242",
          "exception": false,
          "start_time": "2021-09-24T16:36:46.677956",
          "status": "completed"
        },
        "tags": [],
        "id": "f1a02c40"
      },
      "outputs": [],
      "source": [
        "\n",
        "# Downsampling the for reducing noise and computational load\n",
        "def downSampler(data, a, b):\n",
        "  data_decreased = pd.DataFrame()\n",
        "  x = b\n",
        "  for i in range(int(len(data)/x)):\n",
        "    data_mean = data.iloc[a:b,:].sum() / x\n",
        "    data_decreased = pd.concat([data_decreased, data_mean.to_frame().T])\n",
        "    a += x\n",
        "    b += x\n",
        "  return data_decreased\n"
      ]
    },
    {
      "cell_type": "code",
      "execution_count": null,
      "id": "09c6ede0",
      "metadata": {
        "execution": {
          "iopub.execute_input": "2021-09-24T16:36:46.780722Z",
          "iopub.status.busy": "2021-09-24T16:36:46.779662Z",
          "iopub.status.idle": "2021-09-24T16:37:01.298209Z",
          "shell.execute_reply": "2021-09-24T16:37:01.297124Z",
          "shell.execute_reply.started": "2021-09-24T16:26:52.172272Z"
        },
        "papermill": {
          "duration": 14.551518,
          "end_time": "2021-09-24T16:37:01.298358",
          "exception": false,
          "start_time": "2021-09-24T16:36:46.746840",
          "status": "completed"
        },
        "tags": [],
        "id": "09c6ede0"
      },
      "outputs": [],
      "source": [
        "data_n = downSampler(data_n, 0, 2000)\n",
        "data_6g = downSampler(data_6g, 0, 2000)\n",
        "data_10g = downSampler(data_10g, 0, 2000)\n",
        "data_15g = downSampler(data_15g, 0, 2000)\n",
        "data_20g = downSampler(data_20g, 0, 2000)\n",
        "data_25g = downSampler(data_25g, 0, 2000)\n",
        "data_30g = downSampler(data_30g, 0, 2000)"
      ]
    },
    {
      "cell_type": "code",
      "execution_count": null,
      "id": "df944fa5",
      "metadata": {
        "execution": {
          "iopub.execute_input": "2021-09-24T16:37:01.355044Z",
          "iopub.status.busy": "2021-09-24T16:37:01.353768Z",
          "iopub.status.idle": "2021-09-24T16:37:01.376542Z",
          "shell.execute_reply": "2021-09-24T16:37:01.377131Z",
          "shell.execute_reply.started": "2021-09-24T16:27:08.959586Z"
        },
        "papermill": {
          "duration": 0.054774,
          "end_time": "2021-09-24T16:37:01.377343",
          "exception": false,
          "start_time": "2021-09-24T16:37:01.322569",
          "status": "completed"
        },
        "tags": [],
        "id": "df944fa5"
      },
      "outputs": [],
      "source": [
        "data_n # Displaying the downsampled 'data_n' DataFrame"
      ]
    },
    {
      "cell_type": "markdown",
      "source": [
        "FFT Convolve"
      ],
      "metadata": {
        "id": "tpQcZvcnBHWG"
      },
      "id": "tpQcZvcnBHWG"
    },
    {
      "cell_type": "code",
      "source": [
        "# Using Fast Fourier Transform Convolution because of the large data size\n",
        "from scipy import signal\n",
        "import pandas as pd\n",
        "import numpy as np\n",
        "\n",
        "# Function to compute the autocorrelation of data using FFT\n",
        "def FFT(data):\n",
        "    autocorr = signal.fftconvolve(data, data[::-1], mode='same')  # change mode to 'same'\n",
        "    return pd.DataFrame(autocorr)\n",
        "\n",
        "# List of datasets\n",
        "datasets = [data_n, data_6g, data_10g, data_15g, data_20g, data_25g, data_30g]\n",
        "\n",
        "# Apply FFT function to each dataset and concatenate them\n",
        "data = pd.concat([FFT(dataset) for dataset in datasets], ignore_index=True)\n",
        "\n",
        "# Create target labels for each dataset and concatenate them\n",
        "y = pd.concat([pd.DataFrame(np.full((len(dataset), 1), i)) for i, dataset in enumerate(datasets)], ignore_index=True)\n",
        "\n",
        "# Print data and labels\n",
        "print(data)\n",
        "print(y)"
      ],
      "metadata": {
        "id": "dzvd4QiUG3HL"
      },
      "id": "dzvd4QiUG3HL",
      "execution_count": null,
      "outputs": []
    },
    {
      "cell_type": "markdown",
      "source": [
        "## Train the Model"
      ],
      "metadata": {
        "id": "Vyk8Kv89IR-C"
      },
      "id": "Vyk8Kv89IR-C"
    },
    {
      "cell_type": "code",
      "execution_count": null,
      "id": "0b6f34ed",
      "metadata": {
        "execution": {
          "iopub.execute_input": "2021-09-24T16:37:02.688737Z",
          "iopub.status.busy": "2021-09-24T16:37:02.688073Z",
          "iopub.status.idle": "2021-09-24T16:37:02.882887Z",
          "shell.execute_reply": "2021-09-24T16:37:02.883368Z",
          "shell.execute_reply.started": "2021-09-24T16:27:09.935925Z"
        },
        "papermill": {
          "duration": 0.225879,
          "end_time": "2021-09-24T16:37:02.883570",
          "exception": false,
          "start_time": "2021-09-24T16:37:02.657691",
          "status": "completed"
        },
        "tags": [],
        "id": "0b6f34ed"
      },
      "outputs": [],
      "source": [
        "from sklearn.model_selection import train_test_split\n",
        "\n",
        "# Split the data into training and testing sets\n",
        "\n",
        "X_train, X_test, y_train, y_test = train_test_split(data, y, test_size=0.20, shuffle=True)"
      ]
    },
    {
      "cell_type": "code",
      "execution_count": null,
      "id": "efde008e",
      "metadata": {
        "execution": {
          "iopub.execute_input": "2021-09-24T16:37:02.941085Z",
          "iopub.status.busy": "2021-09-24T16:37:02.940402Z",
          "iopub.status.idle": "2021-09-24T16:37:02.943916Z",
          "shell.execute_reply": "2021-09-24T16:37:02.943381Z",
          "shell.execute_reply.started": "2021-09-24T16:27:10.176298Z"
        },
        "papermill": {
          "duration": 0.034572,
          "end_time": "2021-09-24T16:37:02.944068",
          "exception": false,
          "start_time": "2021-09-24T16:37:02.909496",
          "status": "completed"
        },
        "tags": [],
        "id": "efde008e"
      },
      "outputs": [],
      "source": [
        "print(\"Shape of Train Data : {}\".format(X_train.shape))\n",
        "print(\"Shape of Test Data : {}\".format(X_test.shape))"
      ]
    },
    {
      "cell_type": "code",
      "source": [
        "# Sequential algorithm used because it perform better than other algorithms when trained on large datasets.\n",
        "model = Sequential([\n",
        "    Dense(32, activation='relu', input_shape=(X_train.shape[1],), kernel_initializer='random_uniform'),\n",
        "    Dense(64, activation='relu', kernel_initializer='random_uniform'),\n",
        "    Dense(128, activation='relu', kernel_initializer='random_uniform'),\n",
        "    Dense(64, activation='relu', kernel_initializer='random_uniform'),\n",
        "    Dense(32, activation='relu', kernel_initializer='random_uniform'),\n",
        "    Dense(7, activation='softmax', kernel_initializer='random_uniform')])\n",
        "\n"
      ],
      "metadata": {
        "id": "ykNmIt-6ZjCW"
      },
      "id": "ykNmIt-6ZjCW",
      "execution_count": null,
      "outputs": []
    },
    {
      "cell_type": "markdown",
      "source": [
        "# Compile"
      ],
      "metadata": {
        "id": "Es0Q_08YPRec"
      },
      "id": "Es0Q_08YPRec"
    },
    {
      "cell_type": "code",
      "source": [
        "model.compile(optimizer='adam', loss='sparse_categorical_crossentropy', metrics=['accuracy'])\n",
        "model.summary()"
      ],
      "metadata": {
        "id": "_ZGyI8gXaN4L"
      },
      "id": "_ZGyI8gXaN4L",
      "execution_count": null,
      "outputs": []
    },
    {
      "cell_type": "markdown",
      "source": [
        "# Fit"
      ],
      "metadata": {
        "id": "NaqIf7hvPYiz"
      },
      "id": "NaqIf7hvPYiz"
    },
    {
      "cell_type": "code",
      "source": [
        "Ft = model.fit(X_train , y_train , epochs=40, validation_split=0.2)"
      ],
      "metadata": {
        "id": "IM4OAqNiaYhB"
      },
      "id": "IM4OAqNiaYhB",
      "execution_count": null,
      "outputs": []
    },
    {
      "cell_type": "markdown",
      "source": [
        "## Data Visualization"
      ],
      "metadata": {
        "id": "zfN-8XBLICc9"
      },
      "id": "zfN-8XBLICc9"
    },
    {
      "cell_type": "code",
      "execution_count": null,
      "id": "a34a64f0",
      "metadata": {
        "execution": {
          "iopub.execute_input": "2021-09-24T16:37:32.935235Z",
          "iopub.status.busy": "2021-09-24T16:37:32.934543Z",
          "iopub.status.idle": "2021-09-24T16:37:33.143036Z",
          "shell.execute_reply": "2021-09-24T16:37:33.142470Z",
          "shell.execute_reply.started": "2021-09-24T16:27:41.731387Z"
        },
        "papermill": {
          "duration": 0.3226,
          "end_time": "2021-09-24T16:37:33.143187",
          "exception": false,
          "start_time": "2021-09-24T16:37:32.820587",
          "status": "completed"
        },
        "tags": [],
        "id": "a34a64f0"
      },
      "outputs": [],
      "source": [
        "import matplotlib.pyplot as plt\n",
        "\n",
        "# Plotting the accuracy of a model over epochs\n",
        "\n",
        "plt.plot(Ft.history['accuracy'])\n",
        "plt.plot(Ft.history['val_accuracy'])\n",
        "plt.title('Model accuracy')\n",
        "plt.ylabel('Accuracy')\n",
        "plt.xlabel('Epoch')\n",
        "plt.legend(['Train', 'Validation'], loc='upper left')\n",
        "plt.show()\n",
        "\n"
      ]
    },
    {
      "cell_type": "markdown",
      "source": [
        "## Prediction and Loss plot"
      ],
      "metadata": {
        "id": "GGnlfp2NM6MH"
      },
      "id": "GGnlfp2NM6MH"
    },
    {
      "cell_type": "code",
      "source": [
        "\n",
        "def plot_confusion_matrix(confusion_mtx, classes):\n",
        "    # Create a heatmap from our confusion matrix\n",
        "    sns.heatmap(confusion_mtx, annot=True, fmt='d', xticklabels=classes, yticklabels=classes)\n",
        "    plt.ylabel('True label')\n",
        "    plt.xlabel('Predicted label')\n",
        "    plt.show()\n",
        "# Convert predictions classes to one hot vectors\n",
        "y_pred = model.predict(X_test)\n",
        "y_pred_classes = np.argmax(y_pred, axis=1)\n",
        "\n",
        "# Convert validation observations to one hot vectors\n",
        "y_true = np.argmax(y_test, axis=1)\n",
        "\n",
        "# compute the confusion matrix\n",
        "confusion_mtx = confusion_matrix(y_true, y_pred_classes)\n",
        "\n",
        "# plot the confusion matrix\n",
        "plot_confusion_matrix(confusion_mtx, classes = range(7))\n",
        "\n",
        "# Plot training & validation loss values\n",
        "plt.plot(Ft.history['loss'])\n",
        "plt.plot(Ft.history['val_loss'])\n",
        "plt.title('Model loss')\n",
        "plt.ylabel('Loss')\n",
        "plt.xlabel('Epoch')\n",
        "plt.legend(['Train', 'Test'], loc='upper left')\n",
        "plt.show()"
      ],
      "metadata": {
        "id": "9ihyDow3AMB_"
      },
      "id": "9ihyDow3AMB_",
      "execution_count": null,
      "outputs": []
    }
  ],
  "metadata": {
    "kernelspec": {
      "display_name": "Python 3",
      "language": "python",
      "name": "python3"
    },
    "language_info": {
      "codemirror_mode": {
        "name": "ipython",
        "version": 3
      },
      "file_extension": ".py",
      "mimetype": "text/x-python",
      "name": "python",
      "nbconvert_exporter": "python",
      "pygments_lexer": "ipython3",
      "version": "3.7.10"
    },
    "papermill": {
      "default_parameters": {},
      "duration": 147.886968,
      "end_time": "2021-09-24T16:37:37.119230",
      "environment_variables": {},
      "exception": null,
      "input_path": "__notebook__.ipynb",
      "output_path": "__notebook__.ipynb",
      "parameters": {},
      "start_time": "2021-09-24T16:35:09.232262",
      "version": "2.3.3"
    },
    "colab": {
      "provenance": [],
      "include_colab_link": true
    }
  },
  "nbformat": 4,
  "nbformat_minor": 5
}